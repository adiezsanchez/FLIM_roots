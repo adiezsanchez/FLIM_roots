{
 "cells": [
  {
   "cell_type": "code",
   "execution_count": 5,
   "metadata": {},
   "outputs": [],
   "source": [
    "from utils import load_ptu_file, decode_flim_image, display_flim_image\n",
    "import napari"
   ]
  },
  {
   "cell_type": "code",
   "execution_count": 6,
   "metadata": {},
   "outputs": [
    {
     "data": {
      "text/plain": [
       "<Image layer 'image_data' at 0x1f13781cbe0>"
      ]
     },
     "execution_count": 6,
     "metadata": {},
     "output_type": "execute_result"
    }
   ],
   "source": [
    "filepath = './RawData_25/BaseName_25_1.ptu'\n",
    "\n",
    "# Load photon data from PTU file\n",
    "time_data = load_ptu_file(filepath)\n",
    "\n",
    "# Decode FLIM image data\n",
    "image_data = decode_flim_image(filepath)\n",
    "\n",
    "# Display the image in Napari and allow ROI selection\n",
    "viewer = napari.Viewer(ndisplay=2)\n",
    "\n",
    "viewer.add_image(image_data)"
   ]
  },
  {
   "cell_type": "code",
   "execution_count": null,
   "metadata": {},
   "outputs": [],
   "source": [
    "time_data.shape"
   ]
  }
 ],
 "metadata": {
  "kernelspec": {
   "display_name": "FLIM_root",
   "language": "python",
   "name": "python3"
  },
  "language_info": {
   "codemirror_mode": {
    "name": "ipython",
    "version": 3
   },
   "file_extension": ".py",
   "mimetype": "text/x-python",
   "name": "python",
   "nbconvert_exporter": "python",
   "pygments_lexer": "ipython3",
   "version": "3.10.15"
  }
 },
 "nbformat": 4,
 "nbformat_minor": 2
}
